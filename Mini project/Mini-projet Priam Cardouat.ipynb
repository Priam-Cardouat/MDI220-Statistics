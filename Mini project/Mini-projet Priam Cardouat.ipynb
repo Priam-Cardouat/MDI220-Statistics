{
 "cells": [
  {
   "cell_type": "markdown",
   "metadata": {},
   "source": [
    "Nous effectuons maintenant les imports qui nous servirons plus tard"
   ]
  },
  {
   "cell_type": "code",
   "execution_count": 29,
   "metadata": {},
   "outputs": [],
   "source": [
    "import pandas as pd\n",
    "from scipy import stats\n",
    "from scipy import special as sc\n",
    "import matplotlib.pyplot as plt\n",
    "import numpy as np\n",
    "import math\n",
    "from scipy.integrate import quad \n",
    "\n",
    "np.random.seed(7654321)"
   ]
  },
  {
   "cell_type": "markdown",
   "metadata": {},
   "source": [
    "# Exercice 1\n",
    "\n",
    "## Question 1\n",
    "\n",
    "A partir des données, nous les trions par dates (après les avoir bien formatées) puis nous selectionnons les données avant l'accident puis nous enlevons celles avec des données manquantes. Enfin nous stockons les coûts de ces accidents dans le vecteur cost_accident"
   ]
  },
  {
   "cell_type": "code",
   "execution_count": 30,
   "metadata": {},
   "outputs": [],
   "source": [
    "df=pd.read_csv(\"NuclearPowerAccidents2016.csv\")\n",
    "df['Date'] = pd.to_datetime(df['Date'])\n",
    "df=df.set_index(df['Date'])\n",
    "df=df.loc[df['Date'] < '1979-03-28']\n",
    "df=df[df[\"Cost (millions 2013US$)\"].isnull()==False]\n",
    "\n",
    "cost_accident=df[\"Cost (millions 2013US$)\"].values #Le vecteur des coût des accidents (strictement) avant l’accident de Three Mile Island, en million dollars 2013."
   ]
  },
  {
   "cell_type": "markdown",
   "metadata": {},
   "source": [
    "## Question 2\n",
    "### 2.a)\n",
    "   \n",
    "   La fonction de répartition d'une loi normale effectue une bijection de $]-\\infty, +\\infty[$ sur $]0,1[$. Calculons donc l'image directe et il suffira alors de passer à l'image réciproque.\n",
    "   $$F(\\mu + \\sqrt{\\sigma^{2}}F^{-1}(p;0,1);\\mu,\\sigma^{2})=\\frac{1}{\\sqrt{2 \\pi \\sigma^{2}}} \\int_{-\\infty}^{\\mu + \\sqrt{\\sigma^{2}}F^{-1}(p;0,1)} e^{-\\frac{(t-\\mu)^{2}}{2 \\sigma^{2}}} \\,dt = \\frac{1}{\\sqrt{2 \\pi \\sigma^{2}}} (\\int_{-\\infty}^{\\mu} e^{-\\frac{(t-\\mu)^{2}}{2 \\sigma^{2}}} \\,dt + \\int_{\\mu}^{\\mu + \\sqrt{\\sigma^{2}}F^{-1}(p;0,1)} e^{-\\frac{(t-\\mu)^{2}}{2 \\sigma^{2}}} \\,dt)$$\n",
    "   \n",
    "   Puis en effectuant le changement de variable $u=\\frac{t-\\mu}{\\sigma}$, on a:\n",
    "   \n",
    "$$\\frac{1}{\\sqrt{2 \\pi \\sigma^{2}}} (\\int_{-\\infty}^{\\mu} e^{-\\frac{(t-\\mu)^{2}}{2 \\sigma^{2}}} \\,dt + \\int_{\\mu}^{\\mu + \\sqrt{\\sigma^{2}}F^{-1}(p;0,1)} e^{-\\frac{(t-\\mu)^{2}}{2 \\sigma^{2}}} \\,dt) = \\frac{1}{\\sqrt{2 \\pi \\sigma^{2}}} (\\int_{-\\infty}^{0} e^{-\\frac{u^{2}}{2}} \\sqrt{\\sigma^{2}} \\,dt + \\int_{0}^{F^{-1}(p;0,1)} e^{-\\frac{u^{2}}{2}} \\sqrt{\\sigma^{2}} \\,dt) = \\frac{1}{\\sqrt{2 \\pi}} \\int_{-\\infty}^{F^{-1}(p;0,1)} e^{-\\frac{u^{2}}{2}} \\,dt=F(F^{-1}(p;0,1);0,1)=p$$\n",
    "\n",
    "Ainsi, en composant par $F^{-1}(p;\\mu,\\sigma^{2})$, on trouve bien le résultat.\n",
    "\n",
    "### 2.b)\n",
    "\n",
    "Le QQ-plot pour la loi normale est donnée par la courbe suivante :"
   ]
  },
  {
   "cell_type": "code",
   "execution_count": 31,
   "metadata": {
    "scrolled": true
   },
   "outputs": [
    {
     "data": {
      "text/plain": [
       "((array([-2.24067415, -1.87510362, -1.66006004, -1.50227431, -1.37493955,\n",
       "         -1.26666782, -1.17149966, -1.08590302, -1.00760151, -0.93503607,\n",
       "         -0.86708833, -0.80292598, -0.74191073, -0.68354056, -0.62741195,\n",
       "         -0.5731943 , -0.52061206, -0.4694319 , -0.41945333, -0.37050163,\n",
       "         -0.32242247, -0.27507767, -0.22834187, -0.18209983, -0.13624414,\n",
       "         -0.0906733 , -0.04529008,  0.        ,  0.04529008,  0.0906733 ,\n",
       "          0.13624414,  0.18209983,  0.22834187,  0.27507767,  0.32242247,\n",
       "          0.37050163,  0.41945333,  0.4694319 ,  0.52061206,  0.5731943 ,\n",
       "          0.62741195,  0.68354056,  0.74191073,  0.80292598,  0.86708833,\n",
       "          0.93503607,  1.00760151,  1.08590302,  1.17149966,  1.26666782,\n",
       "          1.37493955,  1.50227431,  1.66006004,  1.87510362,  2.24067415]),\n",
       "  array([0.0000e+00, 0.0000e+00, 0.0000e+00, 0.0000e+00, 0.0000e+00,\n",
       "         0.0000e+00, 0.0000e+00, 0.0000e+00, 1.1000e+00, 1.2000e+00,\n",
       "         4.4000e+00, 6.1000e+00, 1.1400e+01, 1.1800e+01, 1.3900e+01,\n",
       "         1.5000e+01, 1.6100e+01, 1.7100e+01, 2.5700e+01, 2.5700e+01,\n",
       "         3.7500e+01, 3.8000e+01, 5.2400e+01, 6.0100e+01, 7.7000e+01,\n",
       "         8.4500e+01, 8.7700e+01, 8.9900e+01, 9.8000e+01, 9.9500e+01,\n",
       "         1.0000e+02, 1.0000e+02, 1.5000e+02, 1.8000e+02, 2.7710e+02,\n",
       "         4.2520e+02, 5.1150e+02, 5.4140e+02, 7.8840e+02, 7.9390e+02,\n",
       "         8.0000e+02, 9.9000e+02, 1.1000e+03, 1.1000e+03, 1.3000e+03,\n",
       "         1.3300e+03, 1.5000e+03, 1.7334e+03, 1.9000e+03, 1.9645e+03,\n",
       "         2.5000e+03, 2.9000e+03, 3.5000e+03, 4.4000e+03, 8.1890e+03])),\n",
       " (1071.5607256749959, 726.3363636363639, 0.7438969625276352))"
      ]
     },
     "execution_count": 31,
     "metadata": {},
     "output_type": "execute_result"
    },
    {
     "data": {
      "image/png": "[encoded data removed]",
      "text/plain": [
       "<Figure size 432x288 with 1 Axes>"
      ]
     },
     "metadata": {
      "needs_background": "light"
     },
     "output_type": "display_data"
    }
   ],
   "source": [
    "stats.probplot(cost_accident,dist = \"norm\",plot=plt)"
   ]
  },
  {
   "cell_type": "markdown",
   "metadata": {},
   "source": [
    "### 3.a)\n",
    "\n",
    "On a :\n",
    "\n",
    "$$F(x;\\lambda)=p \\iff 1-e^{-\\lambda x}=p \\iff x=\\frac{1}{\\lambda}ln(\\frac{1}{1-p})$$\n",
    "\n",
    "Or $F(x;1)=p \\iff x=ln(\\frac{1}{1-p})$.\n",
    "\n",
    "Donc $F(x;\\lambda)=p \\iff x=\\frac{1}{\\lambda}F^{-1}(p;1)$\n",
    "\n",
    "Et donc : $F^{-1}(p;\\lambda)=\\frac{1}{\\lambda}F^{-1}(p;1)$\n",
    "\n",
    "### 3.b)\n",
    "\n",
    "Le QQ-plot de données pour la loi exponentielle est donné ci-dessous"
   ]
  },
  {
   "cell_type": "code",
   "execution_count": 32,
   "metadata": {},
   "outputs": [
    {
     "data": {
      "text/plain": [
       "((array([1.01260268, 1.03086056, 1.04966429, 1.06882839, 1.08836694,\n",
       "         1.10829487, 1.128628  , 1.14938317, 1.17057826, 1.19223233,\n",
       "         1.2143657 , 1.23700006, 1.26015862, 1.28386625, 1.3081496 ,\n",
       "         1.33303734, 1.35856032, 1.38475183, 1.41164782, 1.43928725,\n",
       "         1.46771239, 1.49696921, 1.52710786, 1.55818315, 1.59025517,\n",
       "         1.62338998, 1.65766044, 1.69314718, 1.72993971, 1.7681378 ,\n",
       "         1.80785313, 1.84921125, 1.89235392, 1.93744214, 1.98465969,\n",
       "         2.03421771, 2.08636037, 2.14137218, 2.19958736, 2.26140218,\n",
       "         2.32729132, 2.39782998, 2.47372453, 2.55585563, 2.64534074,\n",
       "         2.74362749, 2.85263812, 2.97500261, 3.11445546, 3.27655635,\n",
       "         3.47011547, 3.71035576, 4.02719843, 4.49366684, 5.38014083]),\n",
       "  array([0.0000e+00, 0.0000e+00, 0.0000e+00, 0.0000e+00, 0.0000e+00,\n",
       "         0.0000e+00, 0.0000e+00, 0.0000e+00, 1.1000e+00, 1.2000e+00,\n",
       "         4.4000e+00, 6.1000e+00, 1.1400e+01, 1.1800e+01, 1.3900e+01,\n",
       "         1.5000e+01, 1.6100e+01, 1.7100e+01, 2.5700e+01, 2.5700e+01,\n",
       "         3.7500e+01, 3.8000e+01, 5.2400e+01, 6.0100e+01, 7.7000e+01,\n",
       "         8.4500e+01, 8.7700e+01, 8.9900e+01, 9.8000e+01, 9.9500e+01,\n",
       "         1.0000e+02, 1.0000e+02, 1.5000e+02, 1.8000e+02, 2.7710e+02,\n",
       "         4.2520e+02, 5.1150e+02, 5.4140e+02, 7.8840e+02, 7.9390e+02,\n",
       "         8.0000e+02, 9.9000e+02, 1.1000e+03, 1.1000e+03, 1.3000e+03,\n",
       "         1.3300e+03, 1.5000e+03, 1.7334e+03, 1.9000e+03, 1.9645e+03,\n",
       "         2.5000e+03, 2.9000e+03, 3.5000e+03, 4.4000e+03, 8.1890e+03])),\n",
       " (1391.6206084719065, -2031.1225934896997, 0.9305092443126555))"
      ]
     },
     "execution_count": 32,
     "metadata": {},
     "output_type": "execute_result"
    },
    {
     "data": {
      "image/png": "[encoded data removed]",
      "text/plain": [
       "<Figure size 432x288 with 1 Axes>"
      ]
     },
     "metadata": {
      "needs_background": "light"
     },
     "output_type": "display_data"
    }
   ],
   "source": [
    "stats.probplot(cost_accident, sparams=(1,), dist=stats.expon, plot=plt)"
   ]
  },
  {
   "cell_type": "markdown",
   "metadata": {},
   "source": [
    "## Question 4\n",
    "\n",
    "Aux vues des QQ-plots, il semblerait qu'une loi exponentielle soit plus adaptée : en effet, la courbe a plus tendance à suivre la droite dans ce cas.\n",
    "\n",
    "\n",
    "\n",
    "\n",
    "# Exercice 2\n",
    "\n",
    "## Question 1\n",
    "\n",
    "Posons $x=(x_{1},...,x_{n})$. On a :\n",
    "\n",
    "$$M(x,\\lambda)=-log p(x,\\lambda) = -log \\prod_{i=1}^{n} \\lambda e^{-\\lambda x_{i}} = -log \\lambda^{n} e^{-\\lambda \\sum_{i=1}^{n} x_{i}} = \\lambda \\sum_{i=1}^{n} x_{i} - n log(\\lambda )$$\n",
    "\n",
    "Donc $\\frac{\\partial M}{\\partial \\lambda} (X,\\lambda) = \\sum_{i=1}^{n} X_{i} - \\frac{n}{\\lambda}$\n",
    "\n",
    "Puis $\\frac{\\partial M}{\\partial \\lambda} (X,\\lambda)=0 \\iff \\lambda = \\frac{n}{\\sum_{i=1}^{n} X_{i}}$\n",
    "\n",
    "L'estimateur du maximum de vraissemblance est donc : $\\hat{\\lambda_{n}} = \\frac{n}{\\sum_{i=1}^{n} X_{i}}$\n",
    "\n",
    "## Question 2\n",
    "\n",
    "Ci-dessous le tracé de l'histogramme des données avec la densité de probabilité de la loi exponentielle avec le paramètre $\\hat{\\lambda_{n}}$ :"
   ]
  },
  {
   "cell_type": "code",
   "execution_count": 33,
   "metadata": {},
   "outputs": [
    {
     "data": {
      "text/plain": [
       "[<matplotlib.lines.Line2D at 0x27fa3535ba8>]"
      ]
     },
     "execution_count": 33,
     "metadata": {},
     "output_type": "execute_result"
    },
    {
     "data": {
      "image/png": "[encoded data removed]",
      "text/plain": [
       "<Figure size 432x288 with 1 Axes>"
      ]
     },
     "metadata": {
      "needs_background": "light"
     },
     "output_type": "display_data"
    }
   ],
   "source": [
    "plt.hist(cost_accident,bins=50,color='blue',density=True)\n",
    "\n",
    "def exponential_density(l,x):\n",
    "    return l*np.exp(-l*x)\n",
    "\n",
    "\n",
    "plt.plot(cost_accident, exponential_density(len(cost_accident)/sum(cost_accident),cost_accident))"
   ]
  },
  {
   "cell_type": "markdown",
   "metadata": {},
   "source": [
    "## Question 3\n",
    "\n",
    "D'une part : $\\mathbb{E}_{\\lambda}(T_{1})=\\frac{1}{n} \\sum_{i=1}^{n} \\mathbb{E}_{\\lambda}(X_{i})=\\frac{1}{\\lambda}=g_{1}(\\lambda)$. L'estimateur est donc sans biais.\n",
    "\n",
    "D'autre part : $Var_{\\lambda}(T_{1}(X))=\\frac{1}{n^{2}} \\sum_{i=1}^{n} Var_{\\lambda}(X_{i})=\\frac{1}{n \\lambda^{2}}$ et $I(\\lambda) = - \\mathbb{E}_{\\lambda} (\\frac{\\partial^{2} log p}{\\partial \\lambda^{2}} (X,\\lambda)) = - \\mathbb{E}_{\\lambda} (\\frac{\\partial^{2}}{\\partial \\lambda^{2}} -\\lambda \\sum_{i=1}^{n} x_{i} + n log(\\lambda ))=\\mathbb{E}_{\\lambda} (\\frac{n}{\\lambda^{2}})=\\frac{n}{\\lambda^{2}}$\n",
    "\n",
    "Ainsi : $\\frac{g'_{1}(\\lambda)^{2}}{I(\\lambda)} = \\frac{\\lambda^{2}}{n \\lambda^{4}} = \\frac{1}{n \\lambda^{2}}$. La borne de Cramér-Rao est atteinte.\n",
    "\n",
    "Nous pouvons donc conclure que $T_{1}(X)$ est un estimateur efficace pour $g_{1}(\\lambda)$\n",
    "\n",
    "## Question 4\n",
    "\n",
    "Le calcul de $g_{1}$ est donné par ce qui suit :"
   ]
  },
  {
   "cell_type": "code",
   "execution_count": 34,
   "metadata": {},
   "outputs": [
    {
     "name": "stdout",
     "output_type": "stream",
     "text": [
      "g_1= 726.3363636363636\n"
     ]
    }
   ],
   "source": [
    "print(\"g_1=\",sum(cost_accident)/len(cost_accident))"
   ]
  },
  {
   "cell_type": "markdown",
   "metadata": {},
   "source": [
    "## Question 5\n",
    "\n",
    "On a : $R(\\lambda, \\tilde{T}_{1,\\eta}) = b(\\lambda,\\tilde{T}_{1,\\eta})^{2} + Var_{\\lambda}(\\tilde{T}_{1,\\eta}(X)) $ avec $Var_{\\lambda}(\\tilde{T}_{1,\\eta}(X)) = \\eta^{2} Var_{\\lambda}(T_{1}(X))$ et $ b(\\lambda,\\tilde{T}_{1,\\eta})^{2} = \\mathbb{E}_{\\lambda}(\\eta \\tilde{T}_{1,\\eta}(X)-g_{1}(\\lambda))^{2}=((\\eta -1)g_{1}(\\lambda))^{2}$\n",
    "\n",
    "Or $R(\\lambda, T_{1})=b(\\lambda,T_{1})^{2} + Var_{\\lambda}(T_{1}(X))= Var_{\\lambda}(T_{1}(X)) = \\frac{1}{n \\lambda^{2}} = \\frac{g_{1}(\\lambda)^{2}}{n}$\n",
    "\n",
    "Donc $R(\\lambda, \\tilde{T}_{1,\\eta}) < R(\\lambda, T_{1}) \\iff ((\\eta -1))^{2} + \\frac{\\eta^{2}}{n} < \\frac{1}{n} \\iff \\eta \\in ]\\frac{n-1}{n+1},1[$\n",
    "\n",
    "Donc $\\forall \\lambda >0, R(\\lambda, \\tilde{T}_{1,\\eta}) < R(\\lambda, T_{1}) \\iff \\eta \\in ]\\frac{n-1}{n+1},1[$.\n",
    "\n",
    "Cela n'est pas en contradiction avec la question précédente dans la mesure où pour $\\eta \\ne 1$, $\\tilde{T}_{1,\\eta}$ est biaisé. De plus, $T_{1}$ reste un estimateur efficace pour  $g_{1}(\\lambda)$ mais $\\tilde{T}_{1,\\eta}$ pour $\\eta \\in ]\\frac{n-1}{n+1},1[$ est un estimateur uniformément optimal pour sa part (ce qui n'est pas en contradiction avec ce qui peut précéder).\n",
    "\n",
    "## Question 6\n",
    "\n",
    "Pour une loi exponentielle de paramètre $\\lambda$, la médiane est donnée par $m=\\frac{ln(2)}{\\lambda}$. On cherche donc $\\eta$ tel que $\\mathbb{E}_{\\lambda}(\\eta \\tilde{T}_{1,\\eta}(X))=m$.\n",
    "\n",
    "On a $\\mathbb{E}_{\\lambda}(\\eta \\tilde{T}_{1,\\eta}(X))=m \\iff \\mathbb{E}_{\\lambda}(T_{1}(X))=\\frac{m}{\\eta} \\iff \\frac{1}{\\lambda}=\\frac{m}{\\eta} \\iff \\eta = ln(2)$.\n",
    "\n",
    "Le calcul de cet estimateur et la médiane empirique sont données ci-dessous :"
   ]
  },
  {
   "cell_type": "code",
   "execution_count": 35,
   "metadata": {},
   "outputs": [
    {
     "name": "stdout",
     "output_type": "stream",
     "text": [
      "estimateur T_{1,eta}= 503.45800259270857\n",
      "médiane empirique= 89.9\n"
     ]
    }
   ],
   "source": [
    "print(\"estimateur T_{1,eta}=\",(np.log(2)*sum(cost_accident)/(len(cost_accident))))\n",
    "print(\"médiane empirique=\",np.median(cost_accident))"
   ]
  },
  {
   "cell_type": "markdown",
   "metadata": {},
   "source": [
    "Une telle différence dans la médiane provient sûrement du fait qu'il y a beaucoup de valeur nulle dans notre base de données.\n",
    "\n",
    "## Question 7\n",
    "\n",
    "Posons donc $\\eta = ln(2)$.\n",
    "\n",
    "D'après la question 5, $\\forall \\lambda >0, R(\\lambda, \\tilde{T}_{1,\\eta}) < R(\\lambda, T_{1}) \\iff \\eta \\in ]\\frac{n-1}{n+1},1[$.\n",
    "\n",
    "On a bien $ln(2)<1$. Puis $ln(2)>\\frac{n-1}{n+1} \\iff n < -\\frac{ln(2)+1}{ln(2)-1}$ $\\textit{i.e}$ $n \\leq 5$.\n",
    "\n",
    "Donc $R(\\lambda, \\tilde{T}_{1,ln(2)}) < R(\\lambda, T_{1}) \\iff n \\leq 5$\n",
    "\n",
    "# Exercice 3\n",
    "\n",
    "## Question 1\n",
    "\n",
    "On formule l'hypothèse null $H_{0}$:\"le coût moyen est inférieur ou égal à 1 milliard de dollars\" ($\\textit{i.e}$ $\\frac{1}{\\lambda} \\leq 10^{3}$ car nous raisonnons en millions de dollars) et l'hypothèse alternative $H_{1}$:\"le coût moyen est strictement supérieur à 1 milliard de dollars\" ($\\textit{i.e}$ $\\frac{1}{\\lambda} > 10^{3}$)\n",
    "\n",
    "Ces 2 hypothèses sont donc équivalentes à $H_{0} : \" \\lambda \\geq 10^{-3}\"$ et $H_{1} : \" \\lambda < 10^{-3}\"$ et c'est celles-ci que nous retiendrons donc.\n",
    "\n",
    "## Question 2\n",
    "\n",
    "On formule les hypothèses intermédiaires suivantes : \n",
    "\n",
    "- $\\tilde{H_{0}} : \" \\lambda = \\lambda_{0}$ avec $\\lambda_{0} \\geq 10^{-3}\"$\n",
    "- $\\tilde{H_{1}} : \" \\lambda = \\lambda_{1}$ avec $\\lambda_{1} < 10^{-3}\"$\n",
    "\n",
    "Donc $\\lambda_{0} > \\lambda_{1}$ en particulier. \n",
    "\n",
    "Le test du rapport de vraissemblance s'écrit pour le niveau $\\alpha$ :\n",
    "\n",
    "$\\lambda (\\lambda_{1},\\lambda_{0};x)=\\frac{\\prod_{i=1}^{n} \\lambda_{1} e^{-\\lambda_{1} x_{i}}}{\\prod_{i=1}^{n} \\lambda_{0} e^{-\\lambda_{0} x_{i}}}=(\\frac{\\lambda_{1}}{\\lambda_{0}})^{n} e^{(\\lambda_{0}-\\lambda_{1}) \\sum_{i=1}^{n} x_{i}} < k_{\\alpha}$\n",
    "\n",
    "On est donc ramené à comparer $\\sum_{i=1}^{n} X_{i}$ avec un certain seuil $C$ : le rapport de vraissemblance étant croissant selon $\\sum_{i=1}^{n} X_{i}$ on rejette $H_{0}$ si $\\sum_{i=1}^{n} X_{i} > C$. De plus comme les $X_{i}$ sont i.i.d et suivent une loi exponentielle de paramètre $\\lambda$, $\\sum_{i=1}^{n} X_{i}$ suit une loi $Gamma(n,\\lambda)$.\n",
    "\n",
    "Puis : $\\mathbb{P}(\\sum_{i=1}^{n} X_{i}>C | H_{0})=\\alpha \\iff \\mathbb{P}(\\sum_{i=1}^{n} X_{i}>C | \\sum_{i=1}^{n} X_{i} \\sim Gamma(n,\\lambda_{0}))=\\alpha \\iff \\mathbb{P}(\\frac{1}{n} \\sum_{i=1}^{n} X_{i}>\\frac{C}{n} | \\frac{1}{n} \\sum_{i=1}^{n} X_{i} \\sim Gamma(n, n \\times \\lambda_{0})) \\iff \\mathbb{P}(\\frac{1}{n} \\sum_{i=1}^{n} X_{i}>q_{1-\\alpha}^{Gamma(n,n \\times \\lambda_{0})} | H_{0})=\\alpha$.\n",
    "\n",
    "Donc on rejette l'hypothèse $H_{0}$ si $\\frac{1}{n} \\sum_{i=1}^{n} X_{i}>q_{1-\\alpha}^{Gamma(n,n \\times \\lambda_{0})}$. D'après le lemme de Neyman-Pearson, c'est le test le plus puissant pour le niveau $\\alpha$.\n",
    "\n",
    "## Question 3\n",
    "\n",
    "Nous avons vu que le test consiste à vérifier si $\\frac{1}{n} \\sum_{i=1}^{n} X_{i}>q_{1-\\alpha}^{Gamma(n,n \\times \\lambda_{0})}$. Or, il faut chercher pour quel valeur de $\\lambda_{0}$ la quantité $q_{1-\\alpha}^{Gamma(n,n \\times \\lambda_{0})}$ est maximale afin d'avoir le test le plus discriminant possible.\n",
    "\n",
    "On sait que $q_{1-\\alpha}^{Gamma(n,n \\times \\lambda)} = F^{-1}(1-\\alpha; Gamma(n,n\\times \\lambda))$. On s'intéresse donc à la monotonie de $F^{-1}(1-\\alpha; Gamma(n,n\\times \\lambda))$ en fonction de $\\lambda$. Sans perte de généralité, $F^{-1}(1-\\alpha; Gamma(n,n \\times \\lambda))$ et $F(1-\\alpha; Gamma(n,n \\times \\lambda))$ étant de même monotonie, on se ramène à l'étude de $F(1-\\alpha; Gamma(n,n \\times \\lambda))$.\n",
    "\n",
    "L'allure de $F(1-\\alpha; Gamma(n,n \\times \\lambda))$ en fonction de $\\lambda$ est donnée ci-dessous :\n",
    "\n",
    "\n"
   ]
  },
  {
   "cell_type": "code",
   "execution_count": 36,
   "metadata": {},
   "outputs": [
    {
     "data": {
      "text/plain": [
       "[<matplotlib.lines.Line2D at 0x27fa36e55c0>]"
      ]
     },
     "execution_count": 36,
     "metadata": {},
     "output_type": "execute_result"
    },
    {
     "data": {
      "image/png": "[encoded data removed]",
      "text/plain": [
       "<Figure size 432x288 with 1 Axes>"
      ]
     },
     "metadata": {
      "needs_background": "light"
     },
     "output_type": "display_data"
    }
   ],
   "source": [
    "a=np.linspace(0.0001,1,1000)\n",
    "def gamma_density(l,n,x):\n",
    "    return (l**n)*(x**(n-1))*np.exp(-l*x)/math.gamma(n)\n",
    "\n",
    "F=[]\n",
    "for lam in a:\n",
    "    def f(x):\n",
    "        return gamma_density(1/(55*lam),55,x)\n",
    "    res, err = quad(f,0,1000)\n",
    "    F.append(res)\n",
    "plt.plot(a,F)"
   ]
  },
  {
   "cell_type": "markdown",
   "metadata": {},
   "source": [
    "Nous constatons donc que $F(1-\\alpha; Gamma(n,.))$ est décroissante en fonction de $\\lambda$ et donc $F(1-\\alpha; Gamma(n,.))$ de même. Par conséquent, $q_{1-\\alpha}^{Gamma(n,n \\times \\lambda)}$ est maximale sur $[10^{-3},+\\infty[$ pour $\\lambda=10^{-3}$. Il nous suffit alors donc de tester pour cette valeur :\n",
    "\n"
   ]
  },
  {
   "cell_type": "code",
   "execution_count": 37,
   "metadata": {},
   "outputs": [
    {
     "name": "stdout",
     "output_type": "stream",
     "text": [
      "somme des coûts divisé par n =  726.3363636363636\n",
      "quantile de la loi gamma(55,55x0.001) à 0.95 = 1232.5363902385322\n",
      "Nous ne sommes pas dans la région du rejet : H0 n'est pas rejetée\n"
     ]
    }
   ],
   "source": [
    "random_values=stats.gamma.rvs(55, scale = 1/(55*0.001),  size = 1000)\n",
    "quantiles = np.quantile(random_values,0.95)\n",
    "print(\"somme des coûts divisé par n = \", sum(cost_accident)/len(cost_accident))\n",
    "print(\"quantile de la loi gamma(55,55x0.001) à 0.95 =\",quantiles)\n",
    "if (quantiles>=sum(cost_accident)/len(cost_accident)):\n",
    "    print(\"Nous ne sommes pas dans la région du rejet : H0 n'est pas rejetée\")\n",
    "else:\n",
    "    print(\"Nous sommes dans la région du rejet : H0 est rejetée\")"
   ]
  },
  {
   "cell_type": "markdown",
   "metadata": {},
   "source": [
    "Nous pouvons donc constater qu'il n'y a pas rejet pour tout $\\lambda \\geq 10^{-3}$. On peut donc affirmer l'hypothèse nulle et donc affirmer que le coût moyen d’accident est inférieur à un milliard de dollars.\n",
    "\n",
    "Sa p-valeur est donnée par : $\\mathbb{P}(\\frac{1}{n} \\sum_{i=1}^{n} X_{i} > \\overline{x})$ avec $\\overline{x}$ la moyenne empirique. On a donc : $p-valeur=1-F^{Gamma(n,n \\times 10^{-3})}(\\overline{x})$ avec $F^{Gamma(n,n \\times 10^{-3})}$ la fonction de répartition pour la loi Gamma explicitée, puisque comme $\\sum_{i=1}^{n} X_{i} \\sim Gamma(n,10^{-3})$ donc $T_{1} \\sim Gamma(n,n \\times 10^{-3})$. Le calcul de la p-valeur est donné ci-dessous :"
   ]
  },
  {
   "cell_type": "code",
   "execution_count": 38,
   "metadata": {},
   "outputs": [
    {
     "data": {
      "text/plain": [
       "0.9862813404636118"
      ]
     },
     "execution_count": 38,
     "metadata": {},
     "output_type": "execute_result"
    }
   ],
   "source": [
    "1-stats.gamma.cdf(726.34,55,scale=1/(55*0.001))"
   ]
  },
  {
   "cell_type": "markdown",
   "metadata": {},
   "source": [
    "## Question 4\n",
    "\n",
    "On a vu d'après la question précédente que $T_{1} \\sim Gamma(n, n \\times 10^{-3})$. En outre on a vu que la région de rejet est définie pour $\\frac{1}{n} \\sum_{i=1}^{n} X_{i}>q_{1-\\alpha}^{Gamma(n,n \\times \\lambda_{0})}$\n"
   ]
  },
  {
   "cell_type": "code",
   "execution_count": 39,
   "metadata": {},
   "outputs": [
    {
     "data": {
      "text/plain": [
       "1222.003816976862"
      ]
     },
     "execution_count": 39,
     "metadata": {},
     "output_type": "execute_result"
    },
    {
     "data": {
      "image/png": "[encoded data removed]",
      "text/plain": [
       "<Figure size 432x288 with 1 Axes>"
      ]
     },
     "metadata": {
      "needs_background": "light"
     },
     "output_type": "display_data"
    }
   ],
   "source": [
    "y=np.linspace(0,2000,100)\n",
    "plt.plot(y,stats.gamma.pdf(y,55,loc=0,scale=1/(55*0.001)),label='densité de T1')\n",
    "random_values=stats.gamma.rvs(55, scale = 1/(55*0.001),  size = 1000) #un jeu de variable aléatoire pour chaque lambda\n",
    "quantiles = np.quantile(random_values,0.95)\n",
    "plt.axvline(x=quantiles,ymin=0,ymax=0.5,color='r', label='limite de la région de rejet') #droite délimitant la zone de rejet à gauche\n",
    "plt.legend()\n",
    "quantiles\n"
   ]
  },
  {
   "cell_type": "markdown",
   "metadata": {},
   "source": [
    "A droite de la droite rouge, nous nous trouvons dans la zone du rejet."
   ]
  },
  {
   "cell_type": "markdown",
   "metadata": {},
   "source": [
    "## Question 5\n",
    "\n",
    "Nous devons donc tracer $\\mathbb{P}(T_{1} > q_{1-\\alpha}^{Gamma(n,n \\times \\lambda_{0})} | \\lambda=\\tilde{\\lambda})$ avec $\\tilde{\\lambda} < 10^{-3}$, qui équivaut à $\\mathbb{P}(T_{1} > q_{1-\\alpha}^{Gamma(n,n \\times \\lambda_{0})} |T_{1} \\sim Gamma(n, n \\times \\lambda))$ avec $\\tilde{\\lambda} < 10^{-3}$, ce qui revient à tracer $1-F^{Gamma(n,n \\times \\lambda)}(q_{1-\\alpha}^{Gamma(n,n \\times \\lambda_{0})})$ avec $\\lambda_{0}=10^{-3}$. En effet, nous avions établi à la question 3 que le quantile maximal en $1-\\alpha$ était atteint pour cette valeur et donc qu'il s'agissait du test le plus discriminant. "
   ]
  },
  {
   "cell_type": "code",
   "execution_count": 40,
   "metadata": {},
   "outputs": [
    {
     "data": {
      "text/plain": [
       "<matplotlib.legend.Legend at 0x27fa361dcf8>"
      ]
     },
     "execution_count": 40,
     "metadata": {},
     "output_type": "execute_result"
    },
    {
     "data": {
      "image/png": "[encoded data removed]",
      "text/plain": [
       "<Figure size 432x288 with 1 Axes>"
      ]
     },
     "metadata": {
      "needs_background": "light"
     },
     "output_type": "display_data"
    }
   ],
   "source": [
    "lam=np.linspace(10**-4,0.001,100)\n",
    "taille=[10,50,100,500,100000]\n",
    "for n in taille:\n",
    "    F=[]\n",
    "    q=[]\n",
    "    random_values=gamma(n,1/(n*0.001),50)\n",
    "    quantiles = (np.quantile(random_values,0.95)) \n",
    "    for i in range(len(lam)):\n",
    "        F.append(1-stats.gamma.cdf(quantiles,n,scale=1/(n*lam[i])))\n",
    "    plt.plot(lam,F,label=n)\n",
    "    F=[]\n",
    "\n",
    "plt.legend()\n"
   ]
  },
  {
   "cell_type": "markdown",
   "metadata": {},
   "source": [
    "La puissance d'un test est la probabilité de rejeter $H_{0}$ alors qu'elle est fausse. Nous voyons ici que si elle est fausse elle est toujours presque sûrement rejetée quand n augmente : le modèle est donc plus réaliste quand nous avons beaucoup de données.\n",
    "\n",
    "## Question 6\n",
    "\n",
    "D'après le théorème centrale limite, on a $T_{1} \\sim \\mathcal{N}(\\frac{1}{\\lambda},\\frac{1}{\\lambda^{2}n})$ pour n suffisamment grand.\n",
    "\n",
    "Pour le test, on cherche donc C tel que $\\mathbb{P}(T_{1} > C) | \\lambda = 10^{-3})=\\alpha \\iff \\mathbb{P}(\\frac{T_{1} - \\frac{1}{\\lambda}}{\\frac{1}{\\lambda \\sqrt{n}}} > q_{1-\\alpha}^{\\mathcal{N}(0,1)} | \\frac{T_{1} - \\frac{1}{\\lambda}}{\\frac{1}{\\lambda \\sqrt{n}}} \\sim \\mathcal{N}(0,1) )=\\alpha$\n",
    "\n",
    "Nous rejetons donc $H_{0}$ si $\\frac{T_{1} - \\frac{1}{\\lambda}}{\\frac{1}{\\lambda \\sqrt{n}}} > q_{1-\\alpha}^{\\mathcal{N}(0,1)}$. Or $q_{1-\\alpha}^{\\mathcal{N}(0,1)} \\simeq 1.645$ et $\\frac{T_{1} - \\frac{1}{\\lambda}}{\\frac{1}{\\lambda \\sqrt{n}}} =$ :"
   ]
  },
  {
   "cell_type": "code",
   "execution_count": 42,
   "metadata": {},
   "outputs": [
    {
     "data": {
      "text/plain": [
       "-2.029543845973098"
      ]
     },
     "execution_count": 42,
     "metadata": {},
     "output_type": "execute_result"
    }
   ],
   "source": [
    "((10**-3)*sum(cost_accident)/np.sqrt(55))-np.sqrt(55)"
   ]
  },
  {
   "cell_type": "markdown",
   "metadata": {},
   "source": [
    "L'hypothèse $H_{0}$ n'est donc pas rejettée. "
   ]
  }
 ],
 "metadata": {
  "kernelspec": {
   "display_name": "Python 3",
   "language": "python",
   "name": "python3"
  },
  "language_info": {
   "codemirror_mode": {
    "name": "ipython",
    "version": 3
   },
   "file_extension": ".py",
   "mimetype": "text/x-python",
   "name": "python",
   "nbconvert_exporter": "python",
   "pygments_lexer": "ipython3",
   "version": "3.7.0"
  }
 },
 "nbformat": 4,
 "nbformat_minor": 2
}
